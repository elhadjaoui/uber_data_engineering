{
 "cells": [
  {
   "cell_type": "code",
   "execution_count": null,
   "id": "1bb4c1dc-ad94-4bf0-8f92-40a0b4c29cf2",
   "metadata": {},
   "outputs": [],
   "source": [
    "import io\n",
    "import pandas as pd\n",
    "import requests"
   ]
  },
  {
   "cell_type": "markdown",
   "id": "60634c82-a4dc-4a87-86ac-b5cfb6b27f51",
   "metadata": {},
   "source": [
    "## **Read data**"
   ]
  },
  {
   "cell_type": "code",
   "execution_count": null,
   "id": "b2b0ce83-356d-4f4d-b384-58c6dd9da490",
   "metadata": {},
   "outputs": [],
   "source": [
    "df = pd.read_csv('data/uber_data.csv')\n",
    "df.tail()"
   ]
  },
  {
   "cell_type": "markdown",
   "id": "01a9fa12-b28c-4a97-b93d-d5bb2f611865",
   "metadata": {},
   "source": [
    "## Data Model"
   ]
  },
  {
   "cell_type": "markdown",
   "id": "d8e50aaa-fd1d-4e3a-9d37-2b2a170644d0",
   "metadata": {},
   "source": [
    "<div>\n",
    "<img  src=\"data_model.jpeg\" width=\"560\"/>\n",
    "</div> "
   ]
  },
  {
   "cell_type": "markdown",
   "id": "4bc3d4b1-fc9a-46f1-9dc2-1f6e8837da37",
   "metadata": {},
   "source": [
    "## convert column data types to datetime"
   ]
  },
  {
   "cell_type": "code",
   "execution_count": null,
   "id": "fd22b206-a383-4e35-9845-64a7a34032c6",
   "metadata": {},
   "outputs": [],
   "source": [
    "df['tpep_pickup_datetime'] = pd.to_datetime(df['tpep_pickup_datetime'])\n",
    "df['tpep_dropoff_datetime'] = pd.to_datetime(df['tpep_dropoff_datetime'])"
   ]
  },
  {
   "cell_type": "code",
   "execution_count": null,
   "id": "405e07e4-aa8f-4d8d-a227-f2e42d2690cd",
   "metadata": {},
   "outputs": [],
   "source": [
    "df.drop_duplicates().reset_index(drop=True)\n",
    "df['trip_id'] = df.index"
   ]
  },
  {
   "cell_type": "markdown",
   "id": "1011f311-fd8d-48f5-9937-564825eaf242",
   "metadata": {},
   "source": [
    "## Create datetime Dimension table"
   ]
  },
  {
   "cell_type": "code",
   "execution_count": null,
   "id": "c3f1a9b0-d898-49ae-b01c-244ac8b16eb3",
   "metadata": {},
   "outputs": [],
   "source": [
    "datetime_dim = df[['tpep_pickup_datetime','tpep_dropoff_datetime']].reset_index(drop=True)\n",
    "datetime_dim['pick_hour'] = datetime_dim['tpep_pickup_datetime'].dt.hour\n",
    "datetime_dim['pick_day'] = datetime_dim['tpep_pickup_datetime'].dt.day\n",
    "datetime_dim['pick_month'] = datetime_dim['tpep_pickup_datetime'].dt.month\n",
    "datetime_dim['pick_year'] = datetime_dim['tpep_pickup_datetime'].dt.year\n",
    "datetime_dim['pick_weekday'] = datetime_dim['tpep_pickup_datetime'].dt.weekday\n",
    "\n",
    "datetime_dim['tpep_dropoff_datetime'] = datetime_dim['tpep_dropoff_datetime']\n",
    "datetime_dim['drop_hour'] = datetime_dim['tpep_dropoff_datetime'].dt.hour\n",
    "datetime_dim['drop_day'] = datetime_dim['tpep_dropoff_datetime'].dt.day\n",
    "datetime_dim['drop_month'] = datetime_dim['tpep_dropoff_datetime'].dt.month\n",
    "datetime_dim['drop_year'] = datetime_dim['tpep_dropoff_datetime'].dt.year\n",
    "datetime_dim['drop_weekday'] = datetime_dim['tpep_dropoff_datetime'].dt.weekday\n",
    "\n",
    "\n",
    "datetime_dim['datetime_id'] = datetime_dim.index\n",
    "datetime_dim\n"
   ]
  },
  {
   "cell_type": "markdown",
   "id": "e5b8ab43-345c-4b14-872b-4ff5eb78666d",
   "metadata": {},
   "source": [
    "## Create passenger_count/trip_distance_dim/rate_code dimensions"
   ]
  },
  {
   "cell_type": "code",
   "execution_count": null,
   "id": "6e065f63-6eb4-4ce1-8365-2baa31d85f29",
   "metadata": {},
   "outputs": [],
   "source": [
    "passenger_count_dim = df[['passenger_count']].reset_index(drop=True)\n",
    "passenger_count_dim['passenger_count_id'] = passenger_count_dim.index\n",
    "passenger_count_dim = passenger_count_dim[['passenger_count_id','passenger_count']]\n",
    "\n",
    "\n",
    "trip_distance_dim = df[['trip_distance']].reset_index(drop=True)\n",
    "trip_distance_dim['trip_distance_id'] = trip_distance_dim.index\n",
    "trip_distance_dim = trip_distance_dim[['trip_distance_id','trip_distance']]\n",
    "\n",
    "rate_code_type = {\n",
    "    1: \"Standard rate\",\n",
    "    2:\"JFK\",\n",
    "    3:\"Newark\",\n",
    "    4:\"Nassau or Westchester\",\n",
    "    5:\"Negotiated fare\",\n",
    "    6:\"Group ride\"\n",
    "}\n",
    "\n",
    "rate_code_dim = df[['RatecodeID']].reset_index(drop=True)\n",
    "rate_code_dim['rate_code_id'] = rate_code_dim.index\n",
    "rate_code_dim['rate_code_name'] = rate_code_dim['RatecodeID'].map(rate_code_type)\n",
    "rate_code_dim = rate_code_dim[['rate_code_id','RatecodeID','rate_code_name']]\n",
    "\n",
    "rate_code_dim.head()"
   ]
  },
  {
   "cell_type": "markdown",
   "id": "985283a4-cb4f-4307-bdde-d5628f388c1c",
   "metadata": {},
   "source": [
    "## Create Location Table"
   ]
  },
  {
   "cell_type": "code",
   "execution_count": null,
   "id": "e54dfc7f-e279-42aa-b43e-a711f93c4ada",
   "metadata": {},
   "outputs": [],
   "source": [
    "pickup_location_dim = df[['pickup_longitude', 'pickup_latitude']].reset_index(drop=True)\n",
    "pickup_location_dim['pickup_location_id'] = pickup_location_dim.index\n",
    "pickup_location_dim = pickup_location_dim[['pickup_location_id','pickup_latitude','pickup_longitude']] \n",
    "\n",
    "\n",
    "dropoff_location_dim = df[['dropoff_longitude', 'dropoff_latitude']].reset_index(drop=True)\n",
    "dropoff_location_dim['dropoff_location_id'] = dropoff_location_dim.index\n",
    "dropoff_location_dim = dropoff_location_dim[['dropoff_location_id','dropoff_latitude','dropoff_longitude']]"
   ]
  },
  {
   "cell_type": "markdown",
   "id": "7deaf532-b0e7-47ab-b5db-088d819d3953",
   "metadata": {},
   "source": [
    "## Create Payment Table"
   ]
  },
  {
   "cell_type": "code",
   "execution_count": null,
   "id": "ca6945d0-b07b-4d33-9d90-5b6620ad2609",
   "metadata": {},
   "outputs": [],
   "source": [
    "payment_type_name = {\n",
    "    1:\"Credit card\",\n",
    "    2:\"Cash\",\n",
    "    3:\"No charge\",\n",
    "    4:\"Dispute\",\n",
    "    5:\"Unknown\",\n",
    "    6:\"Voided trip\"\n",
    "}\n",
    "payment_type_dim = df[['payment_type']].reset_index(drop=True)\n",
    "payment_type_dim['payment_type_id'] = payment_type_dim.index\n",
    "payment_type_dim['payment_type_name'] = payment_type_dim['payment_type'].map(payment_type_name)\n",
    "payment_type_dim = payment_type_dim[['payment_type_id','payment_type','payment_type_name']]"
   ]
  },
  {
   "cell_type": "markdown",
   "id": "51227919-9db5-42ec-80d2-0a7d4f5165ce",
   "metadata": {},
   "source": [
    "## Create Fact Table"
   ]
  },
  {
   "cell_type": "code",
   "execution_count": null,
   "id": "95e8cb3d-88a4-45fa-a0e7-aa0e881fbd1e",
   "metadata": {},
   "outputs": [],
   "source": [
    "fact_table = df.merge(passenger_count_dim, left_on='trip_id', right_on='passenger_count_id') \\\n",
    "             .merge(trip_distance_dim, left_on='trip_id', right_on='trip_distance_id') \\\n",
    "             .merge(rate_code_dim, left_on='trip_id', right_on='rate_code_id') \\\n",
    "             .merge(pickup_location_dim, left_on='trip_id', right_on='pickup_location_id') \\\n",
    "             .merge(dropoff_location_dim, left_on='trip_id', right_on='dropoff_location_id')\\\n",
    "             .merge(datetime_dim, left_on='trip_id', right_on='datetime_id') \\\n",
    "             .merge(payment_type_dim, left_on='trip_id', right_on='payment_type_id') \\\n",
    "             [['trip_id','VendorID', 'datetime_id', 'passenger_count_id',\n",
    "               'trip_distance_id', 'rate_code_id', 'store_and_fwd_flag', 'pickup_location_id', 'dropoff_location_id',\n",
    "               'payment_type_id', 'fare_amount', 'extra', 'mta_tax', 'tip_amount', 'tolls_amount',\n",
    "               'improvement_surcharge', 'total_amount']]\n",
    "fact_table"
   ]
  },
  {
   "cell_type": "code",
   "execution_count": null,
   "id": "bb8bbf91-a3d9-4868-8561-da9801808dc4",
   "metadata": {},
   "outputs": [],
   "source": [
    "fact_table.columns"
   ]
  }
 ],
 "metadata": {
  "kernelspec": {
   "display_name": "Python 3 (ipykernel)",
   "language": "python",
   "name": "python3"
  },
  "language_info": {
   "codemirror_mode": {
    "name": "ipython",
    "version": 3
   },
   "file_extension": ".py",
   "mimetype": "text/x-python",
   "name": "python",
   "nbconvert_exporter": "python",
   "pygments_lexer": "ipython3",
   "version": "3.11.9"
  }
 },
 "nbformat": 4,
 "nbformat_minor": 5
}
